{
 "cells": [
  {
   "cell_type": "markdown",
   "metadata": {},
   "source": [
    "# Aproximación a la calidad de datos"
   ]
  },
  {
   "cell_type": "code",
   "execution_count": 8,
   "metadata": {},
   "outputs": [],
   "source": [
    "%matplotlib inline\n",
    "%reload_ext autoreload\n",
    "%autoreload\n",
    "SEED = 1234\n",
    "from IPython.display import display, HTML\n",
    "from time import time\n",
    "import numpy as np\n",
    "import numpy.ma as ma\n",
    "np.set_printoptions(precision=4)\n",
    "np.random.seed(SEED)\n",
    "import pandas as  pd\n",
    "pd.options.display.max_rows\n",
    "pd.set_option('display.max_colwidth', -1)\n",
    "pd.set_option('display.max_columns', 44)\n",
    "pd.set_option('precision', 8)\n",
    "import matplotlib.pyplot as plt"
   ]
  },
  {
   "cell_type": "code",
   "execution_count": 9,
   "metadata": {},
   "outputs": [],
   "source": [
    "presupuesto = pd.read_csv(\"../presupuesto-ejecutado-2018-segundo-trimestre.csv\")\n",
    "#presupuesto.info()"
   ]
  },
  {
   "cell_type": "markdown",
   "metadata": {},
   "source": [
    " "
   ]
  },
  {
   "cell_type": "markdown",
   "metadata": {},
   "source": [
    " Análisis Bivariado"
   ]
  },
  {
   "cell_type": "markdown",
   "metadata": {},
   "source": [
    " "
   ]
  },
  {
   "cell_type": "markdown",
   "metadata": {},
   "source": [
    " Análisis entre Geo_desc y Sanción"
   ]
  },
  {
   "cell_type": "markdown",
   "metadata": {},
   "source": [
    " "
   ]
  },
  {
   "cell_type": "code",
   "execution_count": 10,
   "metadata": {},
   "outputs": [],
   "source": [
    "df_catNum = presupuesto[[\"Geo_desc\",\"Sanción\"]]"
   ]
  },
  {
   "cell_type": "code",
   "execution_count": 11,
   "metadata": {
    "scrolled": true
   },
   "outputs": [
    {
     "data": {
      "text/html": [
       "<div>\n",
       "<style scoped>\n",
       "    .dataframe tbody tr th:only-of-type {\n",
       "        vertical-align: middle;\n",
       "    }\n",
       "\n",
       "    .dataframe tbody tr th {\n",
       "        vertical-align: top;\n",
       "    }\n",
       "\n",
       "    .dataframe thead th {\n",
       "        text-align: right;\n",
       "    }\n",
       "</style>\n",
       "<table border=\"1\" class=\"dataframe\">\n",
       "  <thead>\n",
       "    <tr style=\"text-align: right;\">\n",
       "      <th></th>\n",
       "      <th>Sanción</th>\n",
       "    </tr>\n",
       "    <tr>\n",
       "      <th>Geo_desc</th>\n",
       "      <th></th>\n",
       "    </tr>\n",
       "  </thead>\n",
       "  <tbody>\n",
       "    <tr>\n",
       "      <th>Comuna 1</th>\n",
       "      <td>76052383120</td>\n",
       "    </tr>\n",
       "    <tr>\n",
       "      <th>Comuna 10</th>\n",
       "      <td>5494278540</td>\n",
       "    </tr>\n",
       "    <tr>\n",
       "      <th>Comuna 11</th>\n",
       "      <td>5713845284</td>\n",
       "    </tr>\n",
       "    <tr>\n",
       "      <th>Comuna 12</th>\n",
       "      <td>6595161876</td>\n",
       "    </tr>\n",
       "    <tr>\n",
       "      <th>Comuna 13</th>\n",
       "      <td>6761098394</td>\n",
       "    </tr>\n",
       "    <tr>\n",
       "      <th>Comuna 14</th>\n",
       "      <td>9510206178</td>\n",
       "    </tr>\n",
       "    <tr>\n",
       "      <th>Comuna 15</th>\n",
       "      <td>7937898205</td>\n",
       "    </tr>\n",
       "    <tr>\n",
       "      <th>Comuna 2</th>\n",
       "      <td>6251500057</td>\n",
       "    </tr>\n",
       "    <tr>\n",
       "      <th>Comuna 3</th>\n",
       "      <td>15216357712</td>\n",
       "    </tr>\n",
       "    <tr>\n",
       "      <th>Comuna 4</th>\n",
       "      <td>39719368683</td>\n",
       "    </tr>\n",
       "    <tr>\n",
       "      <th>Comuna 5</th>\n",
       "      <td>5641414917</td>\n",
       "    </tr>\n",
       "    <tr>\n",
       "      <th>Comuna 6</th>\n",
       "      <td>7235581269</td>\n",
       "    </tr>\n",
       "    <tr>\n",
       "      <th>Comuna 7</th>\n",
       "      <td>8557280819</td>\n",
       "    </tr>\n",
       "    <tr>\n",
       "      <th>Comuna 8</th>\n",
       "      <td>12277899221</td>\n",
       "    </tr>\n",
       "    <tr>\n",
       "      <th>Comuna 9</th>\n",
       "      <td>8274554935</td>\n",
       "    </tr>\n",
       "    <tr>\n",
       "      <th>Zona Externa A La Ciudad</th>\n",
       "      <td>1567338699</td>\n",
       "    </tr>\n",
       "  </tbody>\n",
       "</table>\n",
       "</div>"
      ],
      "text/plain": [
       "                              Sanción\n",
       "Geo_desc                             \n",
       "Comuna 1                  76052383120\n",
       "Comuna 10                 5494278540 \n",
       "Comuna 11                 5713845284 \n",
       "Comuna 12                 6595161876 \n",
       "Comuna 13                 6761098394 \n",
       "Comuna 14                 9510206178 \n",
       "Comuna 15                 7937898205 \n",
       "Comuna 2                  6251500057 \n",
       "Comuna 3                  15216357712\n",
       "Comuna 4                  39719368683\n",
       "Comuna 5                  5641414917 \n",
       "Comuna 6                  7235581269 \n",
       "Comuna 7                  8557280819 \n",
       "Comuna 8                  12277899221\n",
       "Comuna 9                  8274554935 \n",
       "Zona Externa A La Ciudad  1567338699 "
      ]
     },
     "execution_count": 11,
     "metadata": {},
     "output_type": "execute_result"
    }
   ],
   "source": [
    "df_catNum.pivot_table(index='Geo_desc',values='Sanción',aggfunc='sum')"
   ]
  },
  {
   "cell_type": "markdown",
   "metadata": {},
   "source": [
    " "
   ]
  },
  {
   "cell_type": "markdown",
   "metadata": {},
   "source": [
    " "
   ]
  },
  {
   "cell_type": "code",
   "execution_count": 30,
   "metadata": {},
   "outputs": [
    {
     "data": {
      "image/png": "[encoded data removed]",
      "text/plain": [
       "<Figure size 1280x720 with 1 Axes>"
      ]
     },
     "metadata": {
      "needs_background": "light"
     },
     "output_type": "display_data"
    }
   ],
   "source": [
    "grafico = df_catNum.groupby(['Geo_desc']).sum()\n",
    "plt.figure(figsize=(16,9), dpi= 80)\n",
    "plt.xticks(rotation=60, horizontalalignment='right', fontsize=12)\n",
    "plt.bar(grafico.index, height=grafico.Sanción, color='blue');"
   ]
  },
  {
   "cell_type": "markdown",
   "metadata": {},
   "source": [
    "El gráfico se expresa en millones."
   ]
  },
  {
   "cell_type": "markdown",
   "metadata": {},
   "source": [
    " "
   ]
  },
  {
   "cell_type": "markdown",
   "metadata": {},
   "source": [
    " Análisis entre Car_desc y Jur_desc"
   ]
  },
  {
   "cell_type": "markdown",
   "metadata": {},
   "source": [
    " "
   ]
  },
  {
   "cell_type": "code",
   "execution_count": null,
   "metadata": {},
   "outputs": [],
   "source": [
    "df = presupuesto[[\"Car_desc\",\"Jur_desc\"]]"
   ]
  },
  {
   "cell_type": "markdown",
   "metadata": {},
   "source": [
    "Armamos la tabla de contingencia"
   ]
  },
  {
   "cell_type": "code",
   "execution_count": null,
   "metadata": {
    "scrolled": false
   },
   "outputs": [],
   "source": [
    "df_datos = presupuesto[[\"Car_desc\",\"Jur_desc\"]].groupby([\"Car_desc\",\"Jur_desc\"])[\"Jur_desc\"].count().reset_index(name='Cantidad')\n",
    "df_datos[\"Porcentaje\"] = df_datos[\"Cantidad\"]/df_datos[\"Cantidad\"].sum() * 100\n",
    "df_datos = df_datos.sort_values(by=[\"Car_desc\",\"Jur_desc\"], ascending = True)\n",
    "display(df_datos)"
   ]
  },
  {
   "cell_type": "markdown",
   "metadata": {},
   "source": [
    " "
   ]
  },
  {
   "cell_type": "markdown",
   "metadata": {},
   "source": [
    "La tabla de Chi Cuadrado"
   ]
  },
  {
   "cell_type": "code",
   "execution_count": null,
   "metadata": {},
   "outputs": [],
   "source": [
    "df_datos.pivot_table(index='Jur_desc',columns=\"Car_desc\",values='Cantidad')"
   ]
  },
  {
   "cell_type": "markdown",
   "metadata": {},
   "source": [
    " "
   ]
  },
  {
   "cell_type": "code",
   "execution_count": null,
   "metadata": {},
   "outputs": [],
   "source": [
    "x_var = 'Car_desc'\n",
    "groupby_var = 'Jur_desc'\n",
    "df_agg = df.loc[:, [x_var, groupby_var]].groupby(groupby_var)\n",
    "vals = [df[x_var].values.tolist() for i, df in df_agg]\n",
    "plt.figure(figsize=(16,9), dpi= 80)\n",
    "colors = [plt.cm.Spectral(i/float(len(vals)-1)) for i in range(len(vals))]\n",
    "n, bins, patches = plt.hist(vals, df[x_var].unique().__len__(), stacked=True, density=False, color=colors[:len(vals)])\n",
    "plt.legend({group:col for group, col in zip(np.unique(df[groupby_var]).tolist(), colors[:len(vals)])})\n",
    "plt.title(\"Histograma sobre CAR segregado por JUR\", fontsize=22)\n",
    "plt.xlabel(x_var)\n",
    "plt.ylabel(\"Cantidad Jur_desc\")\n",
    "plt.show()"
   ]
  },
  {
   "cell_type": "markdown",
   "metadata": {},
   "source": [
    " "
   ]
  },
  {
   "cell_type": "markdown",
   "metadata": {},
   "source": [
    "Análisis entre Vigente y Devengado"
   ]
  },
  {
   "cell_type": "markdown",
   "metadata": {},
   "source": [
    " "
   ]
  },
  {
   "cell_type": "code",
   "execution_count": null,
   "metadata": {},
   "outputs": [],
   "source": [
    "df_numericas = presupuesto[[\"Vigente\",\"Devengado\"]]"
   ]
  },
  {
   "cell_type": "code",
   "execution_count": null,
   "metadata": {},
   "outputs": [],
   "source": [
    "pd.options.display.float_format = \"{:.3f}\".format\n",
    "df_numericas.describe()"
   ]
  },
  {
   "cell_type": "code",
   "execution_count": null,
   "metadata": {},
   "outputs": [],
   "source": [
    "print (\"La diferencia entre medias es: \" + str(df_numericas[\"Vigente\"].mean() - df_numericas[\"Devengado\"].mean()))"
   ]
  },
  {
   "cell_type": "markdown",
   "metadata": {},
   "source": [
    "Exploramos distintas alternativas para graficar esta relación pero no encontramos alguna que quede algo visible, ya que la mayoría de los puntos coinciden y además existen outliers que expanden demasiado el gráfico."
   ]
  }
 ],
 "metadata": {
  "kernelspec": {
   "display_name": "Python 3",
   "language": "python",
   "name": "python3"
  },
  "language_info": {
   "codemirror_mode": {
    "name": "ipython",
    "version": 3
   },
   "file_extension": ".py",
   "mimetype": "text/x-python",
   "name": "python",
   "nbconvert_exporter": "python",
   "pygments_lexer": "ipython3",
   "version": "3.7.0"
  }
 },
 "nbformat": 4,
 "nbformat_minor": 2
}
